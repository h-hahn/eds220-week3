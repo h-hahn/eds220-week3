{
 "cells": [
  {
   "cell_type": "markdown",
   "id": "bf0b75e6-0832-4b01-a566-6c04a4709052",
   "metadata": {},
   "source": [
    "# Updating data frames\n",
    "\n",
    "## Data: Palmer penguins"
   ]
  },
  {
   "cell_type": "code",
   "execution_count": 1,
   "id": "26b274e2-1562-4fdf-a74e-4b29e894ff1a",
   "metadata": {
    "tags": []
   },
   "outputs": [],
   "source": [
    "# standard libraries\n",
    "import pandas as pd\n",
    "import numpy as np\n",
    "\n",
    "# import seaborn with its standard abbreviation \n",
    "import seaborn as sns\n",
    "\n",
    "# will use the random library to create some random numbers\n",
    "import random"
   ]
  },
  {
   "cell_type": "code",
   "execution_count": 2,
   "id": "212c54db-e3d6-43db-a74b-9884e619db64",
   "metadata": {
    "tags": []
   },
   "outputs": [
    {
     "data": {
      "text/html": [
       "<div>\n",
       "<style scoped>\n",
       "    .dataframe tbody tr th:only-of-type {\n",
       "        vertical-align: middle;\n",
       "    }\n",
       "\n",
       "    .dataframe tbody tr th {\n",
       "        vertical-align: top;\n",
       "    }\n",
       "\n",
       "    .dataframe thead th {\n",
       "        text-align: right;\n",
       "    }\n",
       "</style>\n",
       "<table border=\"1\" class=\"dataframe\">\n",
       "  <thead>\n",
       "    <tr style=\"text-align: right;\">\n",
       "      <th></th>\n",
       "      <th>species</th>\n",
       "      <th>island</th>\n",
       "      <th>bill_length_mm</th>\n",
       "      <th>bill_depth_mm</th>\n",
       "      <th>flipper_length_mm</th>\n",
       "      <th>body_mass_g</th>\n",
       "      <th>sex</th>\n",
       "    </tr>\n",
       "  </thead>\n",
       "  <tbody>\n",
       "    <tr>\n",
       "      <th>0</th>\n",
       "      <td>Adelie</td>\n",
       "      <td>Torgersen</td>\n",
       "      <td>39.1</td>\n",
       "      <td>18.7</td>\n",
       "      <td>181.0</td>\n",
       "      <td>3750.0</td>\n",
       "      <td>Male</td>\n",
       "    </tr>\n",
       "    <tr>\n",
       "      <th>1</th>\n",
       "      <td>Adelie</td>\n",
       "      <td>Torgersen</td>\n",
       "      <td>39.5</td>\n",
       "      <td>17.4</td>\n",
       "      <td>186.0</td>\n",
       "      <td>3800.0</td>\n",
       "      <td>Female</td>\n",
       "    </tr>\n",
       "    <tr>\n",
       "      <th>2</th>\n",
       "      <td>Adelie</td>\n",
       "      <td>Torgersen</td>\n",
       "      <td>40.3</td>\n",
       "      <td>18.0</td>\n",
       "      <td>195.0</td>\n",
       "      <td>3250.0</td>\n",
       "      <td>Female</td>\n",
       "    </tr>\n",
       "    <tr>\n",
       "      <th>3</th>\n",
       "      <td>Adelie</td>\n",
       "      <td>Torgersen</td>\n",
       "      <td>NaN</td>\n",
       "      <td>NaN</td>\n",
       "      <td>NaN</td>\n",
       "      <td>NaN</td>\n",
       "      <td>NaN</td>\n",
       "    </tr>\n",
       "    <tr>\n",
       "      <th>4</th>\n",
       "      <td>Adelie</td>\n",
       "      <td>Torgersen</td>\n",
       "      <td>36.7</td>\n",
       "      <td>19.3</td>\n",
       "      <td>193.0</td>\n",
       "      <td>3450.0</td>\n",
       "      <td>Female</td>\n",
       "    </tr>\n",
       "  </tbody>\n",
       "</table>\n",
       "</div>"
      ],
      "text/plain": [
       "  species     island  bill_length_mm  bill_depth_mm  flipper_length_mm  \\\n",
       "0  Adelie  Torgersen            39.1           18.7              181.0   \n",
       "1  Adelie  Torgersen            39.5           17.4              186.0   \n",
       "2  Adelie  Torgersen            40.3           18.0              195.0   \n",
       "3  Adelie  Torgersen             NaN            NaN                NaN   \n",
       "4  Adelie  Torgersen            36.7           19.3              193.0   \n",
       "\n",
       "   body_mass_g     sex  \n",
       "0       3750.0    Male  \n",
       "1       3800.0  Female  \n",
       "2       3250.0  Female  \n",
       "3          NaN     NaN  \n",
       "4       3450.0  Female  "
      ]
     },
     "execution_count": 2,
     "metadata": {},
     "output_type": "execute_result"
    }
   ],
   "source": [
    "# import data from seaborn\n",
    "penguins = sns.load_dataset('penguins')\n",
    "\n",
    "# look at dataframe's head\n",
    "penguins.head()"
   ]
  },
  {
   "cell_type": "markdown",
   "id": "45b29341-d174-455b-b7f5-529a02d419ca",
   "metadata": {},
   "source": [
    "## Adding a column\n",
    "\n",
    "General syntax to add a single column is \n",
    "```\n",
    "df['new_column_name'] = new_column_values\n",
    "```\n",
    "\n",
    "`new_column_values` could be:\n",
    "\n",
    "- a `pd.Series` OR `numpy.array` of the same length as the data frame\n",
    "- a single scalar (a single number, a single string)\n",
    "\n",
    "**Example**\n",
    "\n",
    "Want to create a new column where the body mass is in kg instead of grams"
   ]
  },
  {
   "cell_type": "code",
   "execution_count": 3,
   "id": "ceafb231-c00b-4043-b658-d3a6abe6380f",
   "metadata": {
    "tags": []
   },
   "outputs": [],
   "source": [
    "# added a new column\n",
    "# same syntax as adding a new value to a dictionary\n",
    "penguins['body_mass_kg'] = penguins.body_mass_g/1000"
   ]
  },
  {
   "cell_type": "code",
   "execution_count": 4,
   "id": "4eeaffde-b34f-4728-b2a7-8c0438c4c1d0",
   "metadata": {
    "tags": []
   },
   "outputs": [
    {
     "name": "stdout",
     "output_type": "stream",
     "text": [
      "True\n"
     ]
    }
   ],
   "source": [
    "print('body_mass_kg' in penguins.columns)"
   ]
  },
  {
   "cell_type": "code",
   "execution_count": 5,
   "id": "d61d855e-8fd7-4552-b936-02d8c96f0153",
   "metadata": {
    "tags": []
   },
   "outputs": [
    {
     "data": {
      "text/html": [
       "<div>\n",
       "<style scoped>\n",
       "    .dataframe tbody tr th:only-of-type {\n",
       "        vertical-align: middle;\n",
       "    }\n",
       "\n",
       "    .dataframe tbody tr th {\n",
       "        vertical-align: top;\n",
       "    }\n",
       "\n",
       "    .dataframe thead th {\n",
       "        text-align: right;\n",
       "    }\n",
       "</style>\n",
       "<table border=\"1\" class=\"dataframe\">\n",
       "  <thead>\n",
       "    <tr style=\"text-align: right;\">\n",
       "      <th></th>\n",
       "      <th>species</th>\n",
       "      <th>island</th>\n",
       "      <th>bill_length_mm</th>\n",
       "      <th>bill_depth_mm</th>\n",
       "      <th>flipper_length_mm</th>\n",
       "      <th>body_mass_g</th>\n",
       "      <th>sex</th>\n",
       "      <th>body_mass_kg</th>\n",
       "    </tr>\n",
       "  </thead>\n",
       "  <tbody>\n",
       "    <tr>\n",
       "      <th>0</th>\n",
       "      <td>Adelie</td>\n",
       "      <td>Torgersen</td>\n",
       "      <td>39.1</td>\n",
       "      <td>18.7</td>\n",
       "      <td>181.0</td>\n",
       "      <td>3750.0</td>\n",
       "      <td>Male</td>\n",
       "      <td>3.75</td>\n",
       "    </tr>\n",
       "    <tr>\n",
       "      <th>1</th>\n",
       "      <td>Adelie</td>\n",
       "      <td>Torgersen</td>\n",
       "      <td>39.5</td>\n",
       "      <td>17.4</td>\n",
       "      <td>186.0</td>\n",
       "      <td>3800.0</td>\n",
       "      <td>Female</td>\n",
       "      <td>3.80</td>\n",
       "    </tr>\n",
       "    <tr>\n",
       "      <th>2</th>\n",
       "      <td>Adelie</td>\n",
       "      <td>Torgersen</td>\n",
       "      <td>40.3</td>\n",
       "      <td>18.0</td>\n",
       "      <td>195.0</td>\n",
       "      <td>3250.0</td>\n",
       "      <td>Female</td>\n",
       "      <td>3.25</td>\n",
       "    </tr>\n",
       "    <tr>\n",
       "      <th>3</th>\n",
       "      <td>Adelie</td>\n",
       "      <td>Torgersen</td>\n",
       "      <td>NaN</td>\n",
       "      <td>NaN</td>\n",
       "      <td>NaN</td>\n",
       "      <td>NaN</td>\n",
       "      <td>NaN</td>\n",
       "      <td>NaN</td>\n",
       "    </tr>\n",
       "    <tr>\n",
       "      <th>4</th>\n",
       "      <td>Adelie</td>\n",
       "      <td>Torgersen</td>\n",
       "      <td>36.7</td>\n",
       "      <td>19.3</td>\n",
       "      <td>193.0</td>\n",
       "      <td>3450.0</td>\n",
       "      <td>Female</td>\n",
       "      <td>3.45</td>\n",
       "    </tr>\n",
       "  </tbody>\n",
       "</table>\n",
       "</div>"
      ],
      "text/plain": [
       "  species     island  bill_length_mm  bill_depth_mm  flipper_length_mm  \\\n",
       "0  Adelie  Torgersen            39.1           18.7              181.0   \n",
       "1  Adelie  Torgersen            39.5           17.4              186.0   \n",
       "2  Adelie  Torgersen            40.3           18.0              195.0   \n",
       "3  Adelie  Torgersen             NaN            NaN                NaN   \n",
       "4  Adelie  Torgersen            36.7           19.3              193.0   \n",
       "\n",
       "   body_mass_g     sex  body_mass_kg  \n",
       "0       3750.0    Male          3.75  \n",
       "1       3800.0  Female          3.80  \n",
       "2       3250.0  Female          3.25  \n",
       "3          NaN     NaN           NaN  \n",
       "4       3450.0  Female          3.45  "
      ]
     },
     "execution_count": 5,
     "metadata": {},
     "output_type": "execute_result"
    }
   ],
   "source": [
    "penguins.head()"
   ]
  },
  {
   "cell_type": "markdown",
   "id": "761f4d87-e1ac-454b-8834-88f341defb45",
   "metadata": {},
   "source": [
    "To create a new column and insert it at a particular position we use `insert()`:\n",
    "```\n",
    "df.insert(loc = integers_index,\n",
    "        column = 'new_column_name',\n",
    "        value = new_col_values) # location of new column\n",
    "```\n",
    "\n",
    "Example:\n",
    "\n",
    "Suppose each penguin gets a unique code as a three digit number. Add this column at the beginning of the data frame:"
   ]
  },
  {
   "cell_type": "code",
   "execution_count": 9,
   "id": "69725b0e-44b0-4ff8-8fed-8ab678e6d335",
   "metadata": {
    "tags": []
   },
   "outputs": [],
   "source": [
    "# create random 3-digit codes\n",
    "# sample is without replacement\n",
    "codes = random.sample( range(100,1000), len(penguins) )\n",
    "\n",
    "penguins.insert(loc = 0, \n",
    "               column = 'code',\n",
    "               value = codes)"
   ]
  },
  {
   "cell_type": "code",
   "execution_count": 10,
   "id": "ec1855e9-9401-4af5-97b6-ace74f65fab2",
   "metadata": {
    "tags": []
   },
   "outputs": [
    {
     "data": {
      "text/html": [
       "<div>\n",
       "<style scoped>\n",
       "    .dataframe tbody tr th:only-of-type {\n",
       "        vertical-align: middle;\n",
       "    }\n",
       "\n",
       "    .dataframe tbody tr th {\n",
       "        vertical-align: top;\n",
       "    }\n",
       "\n",
       "    .dataframe thead th {\n",
       "        text-align: right;\n",
       "    }\n",
       "</style>\n",
       "<table border=\"1\" class=\"dataframe\">\n",
       "  <thead>\n",
       "    <tr style=\"text-align: right;\">\n",
       "      <th></th>\n",
       "      <th>code</th>\n",
       "      <th>species</th>\n",
       "      <th>island</th>\n",
       "      <th>bill_length_mm</th>\n",
       "      <th>bill_depth_mm</th>\n",
       "      <th>flipper_length_mm</th>\n",
       "      <th>body_mass_g</th>\n",
       "      <th>sex</th>\n",
       "      <th>body_mass_kg</th>\n",
       "    </tr>\n",
       "  </thead>\n",
       "  <tbody>\n",
       "    <tr>\n",
       "      <th>0</th>\n",
       "      <td>612</td>\n",
       "      <td>Adelie</td>\n",
       "      <td>Torgersen</td>\n",
       "      <td>39.1</td>\n",
       "      <td>18.7</td>\n",
       "      <td>181.0</td>\n",
       "      <td>3750.0</td>\n",
       "      <td>Male</td>\n",
       "      <td>3.75</td>\n",
       "    </tr>\n",
       "    <tr>\n",
       "      <th>1</th>\n",
       "      <td>722</td>\n",
       "      <td>Adelie</td>\n",
       "      <td>Torgersen</td>\n",
       "      <td>39.5</td>\n",
       "      <td>17.4</td>\n",
       "      <td>186.0</td>\n",
       "      <td>3800.0</td>\n",
       "      <td>Female</td>\n",
       "      <td>3.80</td>\n",
       "    </tr>\n",
       "    <tr>\n",
       "      <th>2</th>\n",
       "      <td>469</td>\n",
       "      <td>Adelie</td>\n",
       "      <td>Torgersen</td>\n",
       "      <td>40.3</td>\n",
       "      <td>18.0</td>\n",
       "      <td>195.0</td>\n",
       "      <td>3250.0</td>\n",
       "      <td>Female</td>\n",
       "      <td>3.25</td>\n",
       "    </tr>\n",
       "    <tr>\n",
       "      <th>3</th>\n",
       "      <td>137</td>\n",
       "      <td>Adelie</td>\n",
       "      <td>Torgersen</td>\n",
       "      <td>NaN</td>\n",
       "      <td>NaN</td>\n",
       "      <td>NaN</td>\n",
       "      <td>NaN</td>\n",
       "      <td>NaN</td>\n",
       "      <td>NaN</td>\n",
       "    </tr>\n",
       "    <tr>\n",
       "      <th>4</th>\n",
       "      <td>844</td>\n",
       "      <td>Adelie</td>\n",
       "      <td>Torgersen</td>\n",
       "      <td>36.7</td>\n",
       "      <td>19.3</td>\n",
       "      <td>193.0</td>\n",
       "      <td>3450.0</td>\n",
       "      <td>Female</td>\n",
       "      <td>3.45</td>\n",
       "    </tr>\n",
       "  </tbody>\n",
       "</table>\n",
       "</div>"
      ],
      "text/plain": [
       "   code species     island  bill_length_mm  bill_depth_mm  flipper_length_mm  \\\n",
       "0   612  Adelie  Torgersen            39.1           18.7              181.0   \n",
       "1   722  Adelie  Torgersen            39.5           17.4              186.0   \n",
       "2   469  Adelie  Torgersen            40.3           18.0              195.0   \n",
       "3   137  Adelie  Torgersen             NaN            NaN                NaN   \n",
       "4   844  Adelie  Torgersen            36.7           19.3              193.0   \n",
       "\n",
       "   body_mass_g     sex  body_mass_kg  \n",
       "0       3750.0    Male          3.75  \n",
       "1       3800.0  Female          3.80  \n",
       "2       3250.0  Female          3.25  \n",
       "3          NaN     NaN           NaN  \n",
       "4       3450.0  Female          3.45  "
      ]
     },
     "execution_count": 10,
     "metadata": {},
     "output_type": "execute_result"
    }
   ],
   "source": [
    "penguins.head()"
   ]
  },
  {
   "cell_type": "markdown",
   "id": "fdb804b8-2a2e-4cbd-9d51-9a04e0588d9a",
   "metadata": {
    "tags": []
   },
   "source": [
    "Q: what happens if we reassign with insert?"
   ]
  },
  {
   "cell_type": "markdown",
   "id": "849945dd-cedc-4476-9d3c-28a5fe92cc17",
   "metadata": {},
   "source": [
    "## Adding multiple columns\n",
    "\n",
    "We can assign multiple columns in the same call using `assign` method.\n",
    "Syntax:\n",
    "```\n",
    "df.assign( new_col1_name = new_col1_values,\n",
    "            new_col2_name = new_col2_values)\n",
    "```\n",
    "Notice: new column names are not strings, we devlare them as if we were creating variables.\n",
    "\n",
    "Example:\n",
    "Add columns:\n",
    "\n",
    "\n",
    "- flipper length converted from mm to cm, and \n",
    "- a code representing the observer"
   ]
  },
  {
   "cell_type": "code",
   "execution_count": 21,
   "id": "18b13a94-d7ea-4a79-ba7c-aefd30407dbe",
   "metadata": {
    "tags": []
   },
   "outputs": [
    {
     "ename": "AttributeError",
     "evalue": "'DataFrame' object has no attribute 'flipper_length_mm'",
     "output_type": "error",
     "traceback": [
      "\u001b[0;31m---------------------------------------------------------------------------\u001b[0m",
      "\u001b[0;31mAttributeError\u001b[0m                            Traceback (most recent call last)",
      "\u001b[0;32m/tmp/ipykernel_8289/1568064403.py\u001b[0m in \u001b[0;36m<module>\u001b[0;34m\u001b[0m\n\u001b[1;32m      3\u001b[0m                           k = len(penguins)) # get this many items\n\u001b[1;32m      4\u001b[0m \u001b[0;34m\u001b[0m\u001b[0m\n\u001b[0;32m----> 5\u001b[0;31m penguins = penguins.assign( flipper_length_cm = penguins.flipper_length_mm/10,\n\u001b[0m\u001b[1;32m      6\u001b[0m                           observer = observers)\n\u001b[1;32m      7\u001b[0m \u001b[0;34m\u001b[0m\u001b[0m\n",
      "\u001b[0;32m/opt/anaconda3/lib/python3.9/site-packages/pandas/core/generic.py\u001b[0m in \u001b[0;36m__getattr__\u001b[0;34m(self, name)\u001b[0m\n\u001b[1;32m   5573\u001b[0m         ):\n\u001b[1;32m   5574\u001b[0m             \u001b[0;32mreturn\u001b[0m \u001b[0mself\u001b[0m\u001b[0;34m[\u001b[0m\u001b[0mname\u001b[0m\u001b[0;34m]\u001b[0m\u001b[0;34m\u001b[0m\u001b[0;34m\u001b[0m\u001b[0m\n\u001b[0;32m-> 5575\u001b[0;31m         \u001b[0;32mreturn\u001b[0m \u001b[0mobject\u001b[0m\u001b[0;34m.\u001b[0m\u001b[0m__getattribute__\u001b[0m\u001b[0;34m(\u001b[0m\u001b[0mself\u001b[0m\u001b[0;34m,\u001b[0m \u001b[0mname\u001b[0m\u001b[0;34m)\u001b[0m\u001b[0;34m\u001b[0m\u001b[0;34m\u001b[0m\u001b[0m\n\u001b[0m\u001b[1;32m   5576\u001b[0m \u001b[0;34m\u001b[0m\u001b[0m\n\u001b[1;32m   5577\u001b[0m     \u001b[0;32mdef\u001b[0m \u001b[0m__setattr__\u001b[0m\u001b[0;34m(\u001b[0m\u001b[0mself\u001b[0m\u001b[0;34m,\u001b[0m \u001b[0mname\u001b[0m\u001b[0;34m:\u001b[0m \u001b[0mstr\u001b[0m\u001b[0;34m,\u001b[0m \u001b[0mvalue\u001b[0m\u001b[0;34m)\u001b[0m \u001b[0;34m->\u001b[0m \u001b[0;32mNone\u001b[0m\u001b[0;34m:\u001b[0m\u001b[0;34m\u001b[0m\u001b[0;34m\u001b[0m\u001b[0m\n",
      "\u001b[0;31mAttributeError\u001b[0m: 'DataFrame' object has no attribute 'flipper_length_mm'"
     ]
    }
   ],
   "source": [
    "# create codes for observers\n",
    "observers = random.choices(['A', 'B', 'C'], # sample from this array\n",
    "                          k = len(penguins)) # get this many items\n",
    "\n",
    "penguins = penguins.assign( flipper_length_cm = penguins.flipper_length_mm/10,\n",
    "                          observer = observers)\n",
    "\n",
    "penguins.head()"
   ]
  },
  {
   "cell_type": "markdown",
   "id": "de169f01-22ef-4b4f-9a07-efc4f31f9e16",
   "metadata": {},
   "source": [
    "## Removing columns\n",
    "\n",
    "We can remove columns using the `drop()` method. \n",
    "Syntax:\n",
    "```\n",
    "df = df.drop(columns = column_names)\n",
    "```\n",
    "\n",
    "where `column_names` can be a single column name (string) or a list of column names.\n",
    "\n",
    "Example:\n",
    "\n",
    "We want to drop the flipper length in mm and the body mass in grams"
   ]
  },
  {
   "cell_type": "code",
   "execution_count": 20,
   "id": "90031c4a-a1d8-451d-a8e6-fbcf0e8f2ed5",
   "metadata": {
    "tags": []
   },
   "outputs": [
    {
     "ename": "KeyError",
     "evalue": "\"['flipper_length_mm', 'body_mass_g'] not found in axis\"",
     "output_type": "error",
     "traceback": [
      "\u001b[0;31m---------------------------------------------------------------------------\u001b[0m",
      "\u001b[0;31mKeyError\u001b[0m                                  Traceback (most recent call last)",
      "\u001b[0;32m/tmp/ipykernel_8289/3429465093.py\u001b[0m in \u001b[0;36m<module>\u001b[0;34m\u001b[0m\n\u001b[1;32m      1\u001b[0m \u001b[0;31m#reassign when using drop\u001b[0m\u001b[0;34m\u001b[0m\u001b[0;34m\u001b[0m\u001b[0m\n\u001b[0;32m----> 2\u001b[0;31m \u001b[0mpenguins\u001b[0m \u001b[0;34m=\u001b[0m \u001b[0mpenguins\u001b[0m\u001b[0;34m.\u001b[0m\u001b[0mdrop\u001b[0m\u001b[0;34m(\u001b[0m\u001b[0mcolumns\u001b[0m \u001b[0;34m=\u001b[0m \u001b[0;34m[\u001b[0m\u001b[0;34m'flipper_length_mm'\u001b[0m\u001b[0;34m,\u001b[0m \u001b[0;34m'body_mass_g'\u001b[0m\u001b[0;34m]\u001b[0m\u001b[0;34m)\u001b[0m\u001b[0;34m\u001b[0m\u001b[0;34m\u001b[0m\u001b[0m\n\u001b[0m\u001b[1;32m      3\u001b[0m \u001b[0;34m\u001b[0m\u001b[0m\n\u001b[1;32m      4\u001b[0m \u001b[0mprint\u001b[0m\u001b[0;34m(\u001b[0m\u001b[0mpenguins\u001b[0m\u001b[0;34m.\u001b[0m\u001b[0mcolumns\u001b[0m\u001b[0;34m)\u001b[0m\u001b[0;34m\u001b[0m\u001b[0;34m\u001b[0m\u001b[0m\n",
      "\u001b[0;32m/opt/anaconda3/lib/python3.9/site-packages/pandas/util/_decorators.py\u001b[0m in \u001b[0;36mwrapper\u001b[0;34m(*args, **kwargs)\u001b[0m\n\u001b[1;32m    309\u001b[0m                     \u001b[0mstacklevel\u001b[0m\u001b[0;34m=\u001b[0m\u001b[0mstacklevel\u001b[0m\u001b[0;34m,\u001b[0m\u001b[0;34m\u001b[0m\u001b[0;34m\u001b[0m\u001b[0m\n\u001b[1;32m    310\u001b[0m                 )\n\u001b[0;32m--> 311\u001b[0;31m             \u001b[0;32mreturn\u001b[0m \u001b[0mfunc\u001b[0m\u001b[0;34m(\u001b[0m\u001b[0;34m*\u001b[0m\u001b[0margs\u001b[0m\u001b[0;34m,\u001b[0m \u001b[0;34m**\u001b[0m\u001b[0mkwargs\u001b[0m\u001b[0;34m)\u001b[0m\u001b[0;34m\u001b[0m\u001b[0;34m\u001b[0m\u001b[0m\n\u001b[0m\u001b[1;32m    312\u001b[0m \u001b[0;34m\u001b[0m\u001b[0m\n\u001b[1;32m    313\u001b[0m         \u001b[0;32mreturn\u001b[0m \u001b[0mwrapper\u001b[0m\u001b[0;34m\u001b[0m\u001b[0;34m\u001b[0m\u001b[0m\n",
      "\u001b[0;32m/opt/anaconda3/lib/python3.9/site-packages/pandas/core/frame.py\u001b[0m in \u001b[0;36mdrop\u001b[0;34m(self, labels, axis, index, columns, level, inplace, errors)\u001b[0m\n\u001b[1;32m   4955\u001b[0m                 \u001b[0mweight\u001b[0m  \u001b[0;36m1.0\u001b[0m     \u001b[0;36m0.8\u001b[0m\u001b[0;34m\u001b[0m\u001b[0;34m\u001b[0m\u001b[0m\n\u001b[1;32m   4956\u001b[0m         \"\"\"\n\u001b[0;32m-> 4957\u001b[0;31m         return super().drop(\n\u001b[0m\u001b[1;32m   4958\u001b[0m             \u001b[0mlabels\u001b[0m\u001b[0;34m=\u001b[0m\u001b[0mlabels\u001b[0m\u001b[0;34m,\u001b[0m\u001b[0;34m\u001b[0m\u001b[0;34m\u001b[0m\u001b[0m\n\u001b[1;32m   4959\u001b[0m             \u001b[0maxis\u001b[0m\u001b[0;34m=\u001b[0m\u001b[0maxis\u001b[0m\u001b[0;34m,\u001b[0m\u001b[0;34m\u001b[0m\u001b[0;34m\u001b[0m\u001b[0m\n",
      "\u001b[0;32m/opt/anaconda3/lib/python3.9/site-packages/pandas/core/generic.py\u001b[0m in \u001b[0;36mdrop\u001b[0;34m(self, labels, axis, index, columns, level, inplace, errors)\u001b[0m\n\u001b[1;32m   4265\u001b[0m         \u001b[0;32mfor\u001b[0m \u001b[0maxis\u001b[0m\u001b[0;34m,\u001b[0m \u001b[0mlabels\u001b[0m \u001b[0;32min\u001b[0m \u001b[0maxes\u001b[0m\u001b[0;34m.\u001b[0m\u001b[0mitems\u001b[0m\u001b[0;34m(\u001b[0m\u001b[0;34m)\u001b[0m\u001b[0;34m:\u001b[0m\u001b[0;34m\u001b[0m\u001b[0;34m\u001b[0m\u001b[0m\n\u001b[1;32m   4266\u001b[0m             \u001b[0;32mif\u001b[0m \u001b[0mlabels\u001b[0m \u001b[0;32mis\u001b[0m \u001b[0;32mnot\u001b[0m \u001b[0;32mNone\u001b[0m\u001b[0;34m:\u001b[0m\u001b[0;34m\u001b[0m\u001b[0;34m\u001b[0m\u001b[0m\n\u001b[0;32m-> 4267\u001b[0;31m                 \u001b[0mobj\u001b[0m \u001b[0;34m=\u001b[0m \u001b[0mobj\u001b[0m\u001b[0;34m.\u001b[0m\u001b[0m_drop_axis\u001b[0m\u001b[0;34m(\u001b[0m\u001b[0mlabels\u001b[0m\u001b[0;34m,\u001b[0m \u001b[0maxis\u001b[0m\u001b[0;34m,\u001b[0m \u001b[0mlevel\u001b[0m\u001b[0;34m=\u001b[0m\u001b[0mlevel\u001b[0m\u001b[0;34m,\u001b[0m \u001b[0merrors\u001b[0m\u001b[0;34m=\u001b[0m\u001b[0merrors\u001b[0m\u001b[0;34m)\u001b[0m\u001b[0;34m\u001b[0m\u001b[0;34m\u001b[0m\u001b[0m\n\u001b[0m\u001b[1;32m   4268\u001b[0m \u001b[0;34m\u001b[0m\u001b[0m\n\u001b[1;32m   4269\u001b[0m         \u001b[0;32mif\u001b[0m \u001b[0minplace\u001b[0m\u001b[0;34m:\u001b[0m\u001b[0;34m\u001b[0m\u001b[0;34m\u001b[0m\u001b[0m\n",
      "\u001b[0;32m/opt/anaconda3/lib/python3.9/site-packages/pandas/core/generic.py\u001b[0m in \u001b[0;36m_drop_axis\u001b[0;34m(self, labels, axis, level, errors, consolidate, only_slice)\u001b[0m\n\u001b[1;32m   4309\u001b[0m                 \u001b[0mnew_axis\u001b[0m \u001b[0;34m=\u001b[0m \u001b[0maxis\u001b[0m\u001b[0;34m.\u001b[0m\u001b[0mdrop\u001b[0m\u001b[0;34m(\u001b[0m\u001b[0mlabels\u001b[0m\u001b[0;34m,\u001b[0m \u001b[0mlevel\u001b[0m\u001b[0;34m=\u001b[0m\u001b[0mlevel\u001b[0m\u001b[0;34m,\u001b[0m \u001b[0merrors\u001b[0m\u001b[0;34m=\u001b[0m\u001b[0merrors\u001b[0m\u001b[0;34m)\u001b[0m\u001b[0;34m\u001b[0m\u001b[0;34m\u001b[0m\u001b[0m\n\u001b[1;32m   4310\u001b[0m             \u001b[0;32melse\u001b[0m\u001b[0;34m:\u001b[0m\u001b[0;34m\u001b[0m\u001b[0;34m\u001b[0m\u001b[0m\n\u001b[0;32m-> 4311\u001b[0;31m                 \u001b[0mnew_axis\u001b[0m \u001b[0;34m=\u001b[0m \u001b[0maxis\u001b[0m\u001b[0;34m.\u001b[0m\u001b[0mdrop\u001b[0m\u001b[0;34m(\u001b[0m\u001b[0mlabels\u001b[0m\u001b[0;34m,\u001b[0m \u001b[0merrors\u001b[0m\u001b[0;34m=\u001b[0m\u001b[0merrors\u001b[0m\u001b[0;34m)\u001b[0m\u001b[0;34m\u001b[0m\u001b[0;34m\u001b[0m\u001b[0m\n\u001b[0m\u001b[1;32m   4312\u001b[0m             \u001b[0mindexer\u001b[0m \u001b[0;34m=\u001b[0m \u001b[0maxis\u001b[0m\u001b[0;34m.\u001b[0m\u001b[0mget_indexer\u001b[0m\u001b[0;34m(\u001b[0m\u001b[0mnew_axis\u001b[0m\u001b[0;34m)\u001b[0m\u001b[0;34m\u001b[0m\u001b[0;34m\u001b[0m\u001b[0m\n\u001b[1;32m   4313\u001b[0m \u001b[0;34m\u001b[0m\u001b[0m\n",
      "\u001b[0;32m/opt/anaconda3/lib/python3.9/site-packages/pandas/core/indexes/base.py\u001b[0m in \u001b[0;36mdrop\u001b[0;34m(self, labels, errors)\u001b[0m\n\u001b[1;32m   6659\u001b[0m         \u001b[0;32mif\u001b[0m \u001b[0mmask\u001b[0m\u001b[0;34m.\u001b[0m\u001b[0many\u001b[0m\u001b[0;34m(\u001b[0m\u001b[0;34m)\u001b[0m\u001b[0;34m:\u001b[0m\u001b[0;34m\u001b[0m\u001b[0;34m\u001b[0m\u001b[0m\n\u001b[1;32m   6660\u001b[0m             \u001b[0;32mif\u001b[0m \u001b[0merrors\u001b[0m \u001b[0;34m!=\u001b[0m \u001b[0;34m\"ignore\"\u001b[0m\u001b[0;34m:\u001b[0m\u001b[0;34m\u001b[0m\u001b[0;34m\u001b[0m\u001b[0m\n\u001b[0;32m-> 6661\u001b[0;31m                 \u001b[0;32mraise\u001b[0m \u001b[0mKeyError\u001b[0m\u001b[0;34m(\u001b[0m\u001b[0;34mf\"{list(labels[mask])} not found in axis\"\u001b[0m\u001b[0;34m)\u001b[0m\u001b[0;34m\u001b[0m\u001b[0;34m\u001b[0m\u001b[0m\n\u001b[0m\u001b[1;32m   6662\u001b[0m             \u001b[0mindexer\u001b[0m \u001b[0;34m=\u001b[0m \u001b[0mindexer\u001b[0m\u001b[0;34m[\u001b[0m\u001b[0;34m~\u001b[0m\u001b[0mmask\u001b[0m\u001b[0;34m]\u001b[0m\u001b[0;34m\u001b[0m\u001b[0;34m\u001b[0m\u001b[0m\n\u001b[1;32m   6663\u001b[0m         \u001b[0;32mreturn\u001b[0m \u001b[0mself\u001b[0m\u001b[0;34m.\u001b[0m\u001b[0mdelete\u001b[0m\u001b[0;34m(\u001b[0m\u001b[0mindexer\u001b[0m\u001b[0;34m)\u001b[0m\u001b[0;34m\u001b[0m\u001b[0;34m\u001b[0m\u001b[0m\n",
      "\u001b[0;31mKeyError\u001b[0m: \"['flipper_length_mm', 'body_mass_g'] not found in axis\""
     ]
    }
   ],
   "source": [
    "#reassign when using drop\n",
    "penguins = penguins.drop(columns = ['flipper_length_mm', 'body_mass_g'])\n",
    "\n",
    "print(penguins.columns)"
   ]
  },
  {
   "cell_type": "markdown",
   "id": "201a3461-a783-4064-9e4d-bc47bf641926",
   "metadata": {},
   "source": [
    "## Updating values\n",
    "\n",
    "Sometimes we want to update certain values in our data frame.\n",
    "\n",
    "### A single value\n",
    "We can access a single value in a `pd.DataFrame` using the locators:\n",
    "\n",
    "- `at[]` : to select labels\n",
    "- `iat[]`: to select by integer index/position\n",
    "\n",
    "Syntax for `at[]`:\n",
    "```\n",
    "df.at[single_index_value, 'column_name']\n",
    "```\n",
    "\n",
    "`at[]` equivalent to `loc[]` when accessing a single value\n",
    "\n",
    "Example:\n",
    "\n",
    "Want to know the bill length of the penguins in the fourth row."
   ]
  },
  {
   "cell_type": "code",
   "execution_count": 22,
   "id": "9538f1b7-ecfd-423f-b100-9f6a7fbeba80",
   "metadata": {
    "tags": []
   },
   "outputs": [
    {
     "data": {
      "text/plain": [
       "nan"
      ]
     },
     "execution_count": 22,
     "metadata": {},
     "output_type": "execute_result"
    }
   ],
   "source": [
    "penguins.at[3, 'bill_length_mm']"
   ]
  },
  {
   "cell_type": "markdown",
   "id": "5b3d5ba2-25ea-4090-a053-568bda9ec570",
   "metadata": {},
   "source": [
    "We got an NA. Let's update to 38.3 mm. We do this using `at[]` too:"
   ]
  },
  {
   "cell_type": "code",
   "execution_count": 25,
   "id": "f13c0612-b43f-46c2-8703-03011b0f285a",
   "metadata": {
    "tags": []
   },
   "outputs": [
    {
     "data": {
      "text/html": [
       "<div>\n",
       "<style scoped>\n",
       "    .dataframe tbody tr th:only-of-type {\n",
       "        vertical-align: middle;\n",
       "    }\n",
       "\n",
       "    .dataframe tbody tr th {\n",
       "        vertical-align: top;\n",
       "    }\n",
       "\n",
       "    .dataframe thead th {\n",
       "        text-align: right;\n",
       "    }\n",
       "</style>\n",
       "<table border=\"1\" class=\"dataframe\">\n",
       "  <thead>\n",
       "    <tr style=\"text-align: right;\">\n",
       "      <th></th>\n",
       "      <th>code</th>\n",
       "      <th>species</th>\n",
       "      <th>island</th>\n",
       "      <th>bill_length_mm</th>\n",
       "      <th>bill_depth_mm</th>\n",
       "      <th>sex</th>\n",
       "      <th>body_mass_kg</th>\n",
       "      <th>flipper_length_cm</th>\n",
       "      <th>observer</th>\n",
       "    </tr>\n",
       "  </thead>\n",
       "  <tbody>\n",
       "    <tr>\n",
       "      <th>0</th>\n",
       "      <td>612</td>\n",
       "      <td>Adelie</td>\n",
       "      <td>Torgersen</td>\n",
       "      <td>39.1</td>\n",
       "      <td>18.7</td>\n",
       "      <td>Male</td>\n",
       "      <td>3.75</td>\n",
       "      <td>18.1</td>\n",
       "      <td>C</td>\n",
       "    </tr>\n",
       "    <tr>\n",
       "      <th>1</th>\n",
       "      <td>722</td>\n",
       "      <td>Adelie</td>\n",
       "      <td>Torgersen</td>\n",
       "      <td>39.5</td>\n",
       "      <td>17.4</td>\n",
       "      <td>Female</td>\n",
       "      <td>3.80</td>\n",
       "      <td>18.6</td>\n",
       "      <td>A</td>\n",
       "    </tr>\n",
       "    <tr>\n",
       "      <th>2</th>\n",
       "      <td>469</td>\n",
       "      <td>Adelie</td>\n",
       "      <td>Torgersen</td>\n",
       "      <td>40.3</td>\n",
       "      <td>18.0</td>\n",
       "      <td>Female</td>\n",
       "      <td>3.25</td>\n",
       "      <td>19.5</td>\n",
       "      <td>C</td>\n",
       "    </tr>\n",
       "    <tr>\n",
       "      <th>3</th>\n",
       "      <td>137</td>\n",
       "      <td>Adelie</td>\n",
       "      <td>Torgersen</td>\n",
       "      <td>38.3</td>\n",
       "      <td>NaN</td>\n",
       "      <td>NaN</td>\n",
       "      <td>NaN</td>\n",
       "      <td>NaN</td>\n",
       "      <td>B</td>\n",
       "    </tr>\n",
       "    <tr>\n",
       "      <th>4</th>\n",
       "      <td>844</td>\n",
       "      <td>Adelie</td>\n",
       "      <td>Torgersen</td>\n",
       "      <td>36.7</td>\n",
       "      <td>19.3</td>\n",
       "      <td>Female</td>\n",
       "      <td>3.45</td>\n",
       "      <td>19.3</td>\n",
       "      <td>C</td>\n",
       "    </tr>\n",
       "  </tbody>\n",
       "</table>\n",
       "</div>"
      ],
      "text/plain": [
       "   code species     island  bill_length_mm  bill_depth_mm     sex  \\\n",
       "0   612  Adelie  Torgersen            39.1           18.7    Male   \n",
       "1   722  Adelie  Torgersen            39.5           17.4  Female   \n",
       "2   469  Adelie  Torgersen            40.3           18.0  Female   \n",
       "3   137  Adelie  Torgersen            38.3            NaN     NaN   \n",
       "4   844  Adelie  Torgersen            36.7           19.3  Female   \n",
       "\n",
       "   body_mass_kg  flipper_length_cm observer  \n",
       "0          3.75               18.1        C  \n",
       "1          3.80               18.6        A  \n",
       "2          3.25               19.5        C  \n",
       "3           NaN                NaN        B  \n",
       "4          3.45               19.3        C  "
      ]
     },
     "execution_count": 25,
     "metadata": {},
     "output_type": "execute_result"
    }
   ],
   "source": [
    "penguins.at[3, 'bill_length_mm'] = 38.3\n",
    "\n",
    "penguins.head()"
   ]
  },
  {
   "cell_type": "code",
   "execution_count": 27,
   "id": "4491693a-bfb4-468a-a641-b322ed86465d",
   "metadata": {
    "tags": []
   },
   "outputs": [
    {
     "data": {
      "text/html": [
       "<div>\n",
       "<style scoped>\n",
       "    .dataframe tbody tr th:only-of-type {\n",
       "        vertical-align: middle;\n",
       "    }\n",
       "\n",
       "    .dataframe tbody tr th {\n",
       "        vertical-align: top;\n",
       "    }\n",
       "\n",
       "    .dataframe thead th {\n",
       "        text-align: right;\n",
       "    }\n",
       "</style>\n",
       "<table border=\"1\" class=\"dataframe\">\n",
       "  <thead>\n",
       "    <tr style=\"text-align: right;\">\n",
       "      <th></th>\n",
       "      <th>code</th>\n",
       "      <th>species</th>\n",
       "      <th>island</th>\n",
       "      <th>bill_length_mm</th>\n",
       "      <th>bill_depth_mm</th>\n",
       "      <th>sex</th>\n",
       "      <th>body_mass_kg</th>\n",
       "      <th>flipper_length_cm</th>\n",
       "      <th>observer</th>\n",
       "    </tr>\n",
       "  </thead>\n",
       "  <tbody>\n",
       "    <tr>\n",
       "      <th>0</th>\n",
       "      <td>612</td>\n",
       "      <td>Adelie</td>\n",
       "      <td>Torgersen</td>\n",
       "      <td>39.1</td>\n",
       "      <td>18.7</td>\n",
       "      <td>Male</td>\n",
       "      <td>3.75</td>\n",
       "      <td>18.1</td>\n",
       "      <td>C</td>\n",
       "    </tr>\n",
       "    <tr>\n",
       "      <th>1</th>\n",
       "      <td>999</td>\n",
       "      <td>Adelie</td>\n",
       "      <td>Torgersen</td>\n",
       "      <td>39.5</td>\n",
       "      <td>17.4</td>\n",
       "      <td>Female</td>\n",
       "      <td>3.80</td>\n",
       "      <td>18.6</td>\n",
       "      <td>A</td>\n",
       "    </tr>\n",
       "    <tr>\n",
       "      <th>2</th>\n",
       "      <td>469</td>\n",
       "      <td>Adelie</td>\n",
       "      <td>Torgersen</td>\n",
       "      <td>40.3</td>\n",
       "      <td>18.0</td>\n",
       "      <td>Female</td>\n",
       "      <td>3.25</td>\n",
       "      <td>19.5</td>\n",
       "      <td>C</td>\n",
       "    </tr>\n",
       "    <tr>\n",
       "      <th>3</th>\n",
       "      <td>137</td>\n",
       "      <td>Adelie</td>\n",
       "      <td>Torgersen</td>\n",
       "      <td>38.3</td>\n",
       "      <td>NaN</td>\n",
       "      <td>NaN</td>\n",
       "      <td>NaN</td>\n",
       "      <td>NaN</td>\n",
       "      <td>B</td>\n",
       "    </tr>\n",
       "    <tr>\n",
       "      <th>4</th>\n",
       "      <td>844</td>\n",
       "      <td>Adelie</td>\n",
       "      <td>Torgersen</td>\n",
       "      <td>36.7</td>\n",
       "      <td>19.3</td>\n",
       "      <td>Female</td>\n",
       "      <td>3.45</td>\n",
       "      <td>19.3</td>\n",
       "      <td>C</td>\n",
       "    </tr>\n",
       "  </tbody>\n",
       "</table>\n",
       "</div>"
      ],
      "text/plain": [
       "   code species     island  bill_length_mm  bill_depth_mm     sex  \\\n",
       "0   612  Adelie  Torgersen            39.1           18.7    Male   \n",
       "1   999  Adelie  Torgersen            39.5           17.4  Female   \n",
       "2   469  Adelie  Torgersen            40.3           18.0  Female   \n",
       "3   137  Adelie  Torgersen            38.3            NaN     NaN   \n",
       "4   844  Adelie  Torgersen            36.7           19.3  Female   \n",
       "\n",
       "   body_mass_kg  flipper_length_cm observer  \n",
       "0          3.75               18.1        C  \n",
       "1          3.80               18.6        A  \n",
       "2          3.25               19.5        C  \n",
       "3           NaN                NaN        B  \n",
       "4          3.45               19.3        C  "
      ]
     },
     "execution_count": 27,
     "metadata": {},
     "output_type": "execute_result"
    }
   ],
   "source": [
    "penguins.iat[1,0] = 999\n",
    "penguins.head()"
   ]
  },
  {
   "cell_type": "code",
   "execution_count": 29,
   "id": "c10b52f4-096e-42df-8ab5-385b4c8180d0",
   "metadata": {
    "tags": []
   },
   "outputs": [
    {
     "name": "stdout",
     "output_type": "stream",
     "text": [
      "10\n"
     ]
    }
   ],
   "source": [
    "# Q: what happens if you reverse the assignment in .at?\n",
    "\n",
    "a = 10\n",
    "b = 20\n",
    "\n",
    "b = a\n",
    "\n",
    "print(b)"
   ]
  },
  {
   "cell_type": "markdown",
   "id": "2c63833f-2435-4f15-91bc-bb5bef32ba4c",
   "metadata": {},
   "source": [
    "### Update multiple values in a column\n",
    "\n",
    "#### By condition\n",
    "\n",
    "Think of `case_when` in R.\n",
    "\n",
    "Example:\n",
    "\n",
    "We want to classify penguins such that:\n",
    "\n",
    "- small penguins : body mass < 3 kg\n",
    "- medium penguins : 3 kg <= body mass < 5 kg\n",
    "- big penguins : body mass > 5 kg\n",
    "\n",
    "One way to do this is using `numpy.select()` to create a new column"
   ]
  },
  {
   "cell_type": "code",
   "execution_count": 32,
   "id": "ca5c2d81-1224-44e3-9268-a6ef95bb2b06",
   "metadata": {
    "tags": []
   },
   "outputs": [],
   "source": [
    "# create a list with the conditions\n",
    "conditions = [ penguins.body_mass_kg < 3,\n",
    "             (3 <= penguins.body_mass_kg) & (penguins.body_mass_kg <5 ),\n",
    "             5 <= penguins.body_mass_kg]\n",
    "\n",
    "# create a list with the choices\n",
    "choices = ['small',\n",
    "          'medium',\n",
    "          'big']\n",
    "\n",
    "# default = value for anything that falls outside conditions\n",
    "penguins['size'] = np.select(conditions, choices, default = np.nan)"
   ]
  },
  {
   "cell_type": "code",
   "execution_count": 33,
   "id": "efe5f283-5005-4cdd-b671-18987c5920c5",
   "metadata": {
    "tags": []
   },
   "outputs": [
    {
     "data": {
      "text/html": [
       "<div>\n",
       "<style scoped>\n",
       "    .dataframe tbody tr th:only-of-type {\n",
       "        vertical-align: middle;\n",
       "    }\n",
       "\n",
       "    .dataframe tbody tr th {\n",
       "        vertical-align: top;\n",
       "    }\n",
       "\n",
       "    .dataframe thead th {\n",
       "        text-align: right;\n",
       "    }\n",
       "</style>\n",
       "<table border=\"1\" class=\"dataframe\">\n",
       "  <thead>\n",
       "    <tr style=\"text-align: right;\">\n",
       "      <th></th>\n",
       "      <th>code</th>\n",
       "      <th>species</th>\n",
       "      <th>island</th>\n",
       "      <th>bill_length_mm</th>\n",
       "      <th>bill_depth_mm</th>\n",
       "      <th>sex</th>\n",
       "      <th>body_mass_kg</th>\n",
       "      <th>flipper_length_cm</th>\n",
       "      <th>observer</th>\n",
       "      <th>size</th>\n",
       "    </tr>\n",
       "  </thead>\n",
       "  <tbody>\n",
       "    <tr>\n",
       "      <th>0</th>\n",
       "      <td>612</td>\n",
       "      <td>Adelie</td>\n",
       "      <td>Torgersen</td>\n",
       "      <td>39.1</td>\n",
       "      <td>18.7</td>\n",
       "      <td>Male</td>\n",
       "      <td>3.75</td>\n",
       "      <td>18.1</td>\n",
       "      <td>C</td>\n",
       "      <td>medium</td>\n",
       "    </tr>\n",
       "    <tr>\n",
       "      <th>1</th>\n",
       "      <td>999</td>\n",
       "      <td>Adelie</td>\n",
       "      <td>Torgersen</td>\n",
       "      <td>39.5</td>\n",
       "      <td>17.4</td>\n",
       "      <td>Female</td>\n",
       "      <td>3.80</td>\n",
       "      <td>18.6</td>\n",
       "      <td>A</td>\n",
       "      <td>medium</td>\n",
       "    </tr>\n",
       "    <tr>\n",
       "      <th>2</th>\n",
       "      <td>469</td>\n",
       "      <td>Adelie</td>\n",
       "      <td>Torgersen</td>\n",
       "      <td>40.3</td>\n",
       "      <td>18.0</td>\n",
       "      <td>Female</td>\n",
       "      <td>3.25</td>\n",
       "      <td>19.5</td>\n",
       "      <td>C</td>\n",
       "      <td>medium</td>\n",
       "    </tr>\n",
       "    <tr>\n",
       "      <th>3</th>\n",
       "      <td>137</td>\n",
       "      <td>Adelie</td>\n",
       "      <td>Torgersen</td>\n",
       "      <td>38.3</td>\n",
       "      <td>NaN</td>\n",
       "      <td>NaN</td>\n",
       "      <td>NaN</td>\n",
       "      <td>NaN</td>\n",
       "      <td>B</td>\n",
       "      <td>nan</td>\n",
       "    </tr>\n",
       "    <tr>\n",
       "      <th>4</th>\n",
       "      <td>844</td>\n",
       "      <td>Adelie</td>\n",
       "      <td>Torgersen</td>\n",
       "      <td>36.7</td>\n",
       "      <td>19.3</td>\n",
       "      <td>Female</td>\n",
       "      <td>3.45</td>\n",
       "      <td>19.3</td>\n",
       "      <td>C</td>\n",
       "      <td>medium</td>\n",
       "    </tr>\n",
       "  </tbody>\n",
       "</table>\n",
       "</div>"
      ],
      "text/plain": [
       "   code species     island  bill_length_mm  bill_depth_mm     sex  \\\n",
       "0   612  Adelie  Torgersen            39.1           18.7    Male   \n",
       "1   999  Adelie  Torgersen            39.5           17.4  Female   \n",
       "2   469  Adelie  Torgersen            40.3           18.0  Female   \n",
       "3   137  Adelie  Torgersen            38.3            NaN     NaN   \n",
       "4   844  Adelie  Torgersen            36.7           19.3  Female   \n",
       "\n",
       "   body_mass_kg  flipper_length_cm observer    size  \n",
       "0          3.75               18.1        C  medium  \n",
       "1          3.80               18.6        A  medium  \n",
       "2          3.25               19.5        C  medium  \n",
       "3           NaN                NaN        B     nan  \n",
       "4          3.45               19.3        C  medium  "
      ]
     },
     "execution_count": 33,
     "metadata": {},
     "output_type": "execute_result"
    }
   ],
   "source": [
    "penguins.head()"
   ]
  },
  {
   "cell_type": "markdown",
   "id": "5586e7b8-db5c-45a4-937c-49d00030c227",
   "metadata": {},
   "source": [
    "### Update a column by selecting values\n",
    "\n",
    "Sometimes we just want to update a few values that satisfy a condition.\n",
    "We can do this by selecting using `loc` (if selecting by label) and then assigning a new value\n",
    "```\n",
    "# modifies data in place\n",
    "df.loc[row_selection, col_name] = new_values\n",
    "```\n",
    "where\n",
    "\n",
    "- `row_selection` = rows we want to update,\n",
    "- `col_name` = a single column name, and\n",
    "- `new_values` = the new value or values we want to update. If using multiple values, make sure they are the same length as the data frame.\n",
    "\n",
    "Example:\n",
    "\n",
    "We want to update the \"Male\" values in the sex column to \"M\""
   ]
  },
  {
   "cell_type": "code",
   "execution_count": 35,
   "id": "70f798e9-f1c7-4873-8982-c7bc14cdc1ad",
   "metadata": {
    "tags": []
   },
   "outputs": [],
   "source": [
    "penguins.loc[penguins.sex == \"Male\", 'sex'] = 'M'"
   ]
  },
  {
   "cell_type": "code",
   "execution_count": 37,
   "id": "aa6909e6-64b1-414e-87b0-f29eeffa9bc6",
   "metadata": {
    "tags": []
   },
   "outputs": [
    {
     "data": {
      "text/plain": [
       "array(['M', 'Female', nan], dtype=object)"
      ]
     },
     "execution_count": 37,
     "metadata": {},
     "output_type": "execute_result"
    }
   ],
   "source": [
    "penguins.head()\n",
    "\n",
    "penguins.sex.unique()"
   ]
  },
  {
   "cell_type": "markdown",
   "id": "b3e1b87a-5a5c-4a99-ba41-29df1e735a51",
   "metadata": {},
   "source": [
    "## `SettingWithCopyWarning`\n",
    "\n",
    "Suppose we want to update the \"Female\" value in the sex column to \"F\". This is an example of something we might try, but won't work:"
   ]
  },
  {
   "cell_type": "code",
   "execution_count": 41,
   "id": "08990483-a764-47be-84d2-9f83e8e131ce",
   "metadata": {
    "tags": []
   },
   "outputs": [
    {
     "name": "stderr",
     "output_type": "stream",
     "text": [
      "/tmp/ipykernel_8289/1110594010.py:1: SettingWithCopyWarning: \n",
      "A value is trying to be set on a copy of a slice from a DataFrame.\n",
      "Try using .loc[row_indexer,col_indexer] = value instead\n",
      "\n",
      "See the caveats in the documentation: https://pandas.pydata.org/pandas-docs/stable/user_guide/indexing.html#returning-a-view-versus-a-copy\n",
      "  penguins[penguins.sex =='Female']['sex'] = 'F'\n"
     ]
    }
   ],
   "source": [
    "penguins[penguins.sex =='Female']['sex'] = 'F'"
   ]
  },
  {
   "cell_type": "markdown",
   "id": "d3cbd22d-d379-4306-b2e5-912b65f5181b",
   "metadata": {},
   "source": [
    "When we select data with **chained indexing** `[][]` insetad of `loc` we get this warning.\n",
    "`pandas` is trying to alert us that our code is ambiguous and there might be a bug.\n",
    "\n",
    "In this case, we did not update the penguins data frame:"
   ]
  },
  {
   "cell_type": "code",
   "execution_count": 43,
   "id": "5245fa75-440f-44fc-a978-fc3eb0bd951e",
   "metadata": {
    "tags": []
   },
   "outputs": [
    {
     "data": {
      "text/html": [
       "<div>\n",
       "<style scoped>\n",
       "    .dataframe tbody tr th:only-of-type {\n",
       "        vertical-align: middle;\n",
       "    }\n",
       "\n",
       "    .dataframe tbody tr th {\n",
       "        vertical-align: top;\n",
       "    }\n",
       "\n",
       "    .dataframe thead th {\n",
       "        text-align: right;\n",
       "    }\n",
       "</style>\n",
       "<table border=\"1\" class=\"dataframe\">\n",
       "  <thead>\n",
       "    <tr style=\"text-align: right;\">\n",
       "      <th></th>\n",
       "      <th>code</th>\n",
       "      <th>species</th>\n",
       "      <th>island</th>\n",
       "      <th>bill_length_mm</th>\n",
       "      <th>bill_depth_mm</th>\n",
       "      <th>sex</th>\n",
       "      <th>body_mass_kg</th>\n",
       "      <th>flipper_length_cm</th>\n",
       "      <th>observer</th>\n",
       "      <th>size</th>\n",
       "    </tr>\n",
       "  </thead>\n",
       "  <tbody>\n",
       "    <tr>\n",
       "      <th>0</th>\n",
       "      <td>612</td>\n",
       "      <td>Adelie</td>\n",
       "      <td>Torgersen</td>\n",
       "      <td>39.1</td>\n",
       "      <td>18.7</td>\n",
       "      <td>M</td>\n",
       "      <td>3.75</td>\n",
       "      <td>18.1</td>\n",
       "      <td>C</td>\n",
       "      <td>medium</td>\n",
       "    </tr>\n",
       "    <tr>\n",
       "      <th>1</th>\n",
       "      <td>999</td>\n",
       "      <td>Adelie</td>\n",
       "      <td>Torgersen</td>\n",
       "      <td>39.5</td>\n",
       "      <td>17.4</td>\n",
       "      <td>Female</td>\n",
       "      <td>3.80</td>\n",
       "      <td>18.6</td>\n",
       "      <td>A</td>\n",
       "      <td>medium</td>\n",
       "    </tr>\n",
       "    <tr>\n",
       "      <th>2</th>\n",
       "      <td>469</td>\n",
       "      <td>Adelie</td>\n",
       "      <td>Torgersen</td>\n",
       "      <td>40.3</td>\n",
       "      <td>18.0</td>\n",
       "      <td>Female</td>\n",
       "      <td>3.25</td>\n",
       "      <td>19.5</td>\n",
       "      <td>C</td>\n",
       "      <td>medium</td>\n",
       "    </tr>\n",
       "    <tr>\n",
       "      <th>3</th>\n",
       "      <td>137</td>\n",
       "      <td>Adelie</td>\n",
       "      <td>Torgersen</td>\n",
       "      <td>38.3</td>\n",
       "      <td>NaN</td>\n",
       "      <td>NaN</td>\n",
       "      <td>NaN</td>\n",
       "      <td>NaN</td>\n",
       "      <td>B</td>\n",
       "      <td>nan</td>\n",
       "    </tr>\n",
       "    <tr>\n",
       "      <th>4</th>\n",
       "      <td>844</td>\n",
       "      <td>Adelie</td>\n",
       "      <td>Torgersen</td>\n",
       "      <td>36.7</td>\n",
       "      <td>19.3</td>\n",
       "      <td>Female</td>\n",
       "      <td>3.45</td>\n",
       "      <td>19.3</td>\n",
       "      <td>C</td>\n",
       "      <td>medium</td>\n",
       "    </tr>\n",
       "  </tbody>\n",
       "</table>\n",
       "</div>"
      ],
      "text/plain": [
       "   code species     island  bill_length_mm  bill_depth_mm     sex  \\\n",
       "0   612  Adelie  Torgersen            39.1           18.7       M   \n",
       "1   999  Adelie  Torgersen            39.5           17.4  Female   \n",
       "2   469  Adelie  Torgersen            40.3           18.0  Female   \n",
       "3   137  Adelie  Torgersen            38.3            NaN     NaN   \n",
       "4   844  Adelie  Torgersen            36.7           19.3  Female   \n",
       "\n",
       "   body_mass_kg  flipper_length_cm observer    size  \n",
       "0          3.75               18.1        C  medium  \n",
       "1          3.80               18.6        A  medium  \n",
       "2          3.25               19.5        C  medium  \n",
       "3           NaN                NaN        B     nan  \n",
       "4          3.45               19.3        C  medium  "
      ]
     },
     "execution_count": 43,
     "metadata": {},
     "output_type": "execute_result"
    }
   ],
   "source": [
    "penguins.head()"
   ]
  },
  {
   "cell_type": "markdown",
   "id": "56a1a55b-3aeb-4fc0-a962-db778f4c77a9",
   "metadata": {},
   "source": [
    "## Views and copies\n",
    "\n",
    "Some `pandas` operations return a view to your data, while others return a copy to your data.\n",
    "\n",
    "- **Views** are actual subsets of the original data, when we update them, we are modifying the original data frame.\n",
    "- **Copies** are unique objects, independent of our original data frame. When we update a copy we are not modifying our original data frame.\n",
    "\n",
    "Depending on what we are trying to do, we might want to modify a copy or a view.\n",
    "\n",
    "### Another `SettingWithCopyWarning`\n",
    "\n",
    "Another common situation when this warning comes up is when we try updating a subset of our data grame already stored in a variable.\n",
    "\n",
    "Example:\n",
    "\n",
    "We only want data from Biscoe Island and, after doing some analysis, we want to add a new column to it:"
   ]
  },
  {
   "cell_type": "code",
   "execution_count": 44,
   "id": "cde6721e-2537-491f-9599-12f45981d800",
   "metadata": {
    "tags": []
   },
   "outputs": [
    {
     "name": "stderr",
     "output_type": "stream",
     "text": [
      "/tmp/ipykernel_8289/1706700282.py:5: SettingWithCopyWarning: \n",
      "A value is trying to be set on a copy of a slice from a DataFrame.\n",
      "Try using .loc[row_indexer,col_indexer] = value instead\n",
      "\n",
      "See the caveats in the documentation: https://pandas.pydata.org/pandas-docs/stable/user_guide/indexing.html#returning-a-view-versus-a-copy\n",
      "  biscoe['sample_column'] = 100\n"
     ]
    }
   ],
   "source": [
    "biscoe = penguins[penguins.island == 'Biscoe']\n",
    "\n",
    "# 50 lines of code\n",
    "\n",
    "biscoe['sample_column'] = 100"
   ]
  },
  {
   "cell_type": "markdown",
   "id": "6200d30f-cc64-457b-b199-9685e2ee383e",
   "metadata": {},
   "source": [
    "Essentially what we did was\n",
    "```\n",
    "penguins[penguins.island == 'Biscoe'][sample_column] = 100\n",
    "```"
   ]
  },
  {
   "cell_type": "markdown",
   "id": "980deec3-6828-40cf-8248-a9221e4abce7",
   "metadata": {},
   "source": [
    "To fix this we can **take control of the copy-view situation and explicitly ask for a copy of the dataset when subsetting the data.** Use the `copy()` method for this"
   ]
  },
  {
   "cell_type": "code",
   "execution_count": 48,
   "id": "20952030-8056-4604-999b-c68a9ba3c37a",
   "metadata": {
    "tags": []
   },
   "outputs": [],
   "source": [
    "biscoe = penguins[penguins.island == 'Biscoe'].copy()\n",
    "\n",
    "biscoe['sample_col'] = 100"
   ]
  },
  {
   "cell_type": "code",
   "execution_count": null,
   "id": "c4f12550-deec-48b3-9e11-d8924be505fc",
   "metadata": {},
   "outputs": [],
   "source": []
  }
 ],
 "metadata": {
  "kernelspec": {
   "display_name": "Anaconda 3 (Base)",
   "language": "python",
   "name": "base"
  },
  "language_info": {
   "codemirror_mode": {
    "name": "ipython",
    "version": 3
   },
   "file_extension": ".py",
   "mimetype": "text/x-python",
   "name": "python",
   "nbconvert_exporter": "python",
   "pygments_lexer": "ipython3",
   "version": "3.9.13"
  }
 },
 "nbformat": 4,
 "nbformat_minor": 5
}
